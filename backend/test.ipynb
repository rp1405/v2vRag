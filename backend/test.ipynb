{
 "cells": [
  {
   "cell_type": "code",
   "execution_count": 1,
   "metadata": {},
   "outputs": [
    {
     "name": "stderr",
     "output_type": "stream",
     "text": [
      "/Users/admin/Documents/Github-rp1405/v2vRag/v2vRag/lib/python3.11/site-packages/tqdm/auto.py:21: TqdmWarning: IProgress not found. Please update jupyter and ipywidgets. See https://ipywidgets.readthedocs.io/en/stable/user_install.html\n",
      "  from .autonotebook import tqdm as notebook_tqdm\n"
     ]
    }
   ],
   "source": [
    "import services.ragService as ragService"
   ]
  },
  {
   "cell_type": "code",
   "execution_count": null,
   "metadata": {},
   "outputs": [
    {
     "name": "stderr",
     "output_type": "stream",
     "text": [
      "Device set to use mps:0\n"
     ]
    }
   ],
   "source": [
    "from services.llms.LlamaChat import LlamaChat\n",
    "\n",
    "llm = LlamaChat()"
   ]
  },
  {
   "cell_type": "code",
   "execution_count": null,
   "metadata": {},
   "outputs": [
    {
     "name": "stderr",
     "output_type": "stream",
     "text": [
      "Device set to use mps:0\n",
      "Setting `pad_token_id` to `eos_token_id`:128001 for open-end generation.\n"
     ]
    },
    {
     "name": "stdout",
     "output_type": "stream",
     "text": [
      " in the ass, I'm a virgin\n",
      "I'm a virgin, I don't have a girlfriend, I don't have a boyfriend, I'm not married, I don't have kids, I don't have a job, I don't have a house, I don't have a car, I don't have a bank account, I don't have a credit card, I don't have a cellphone, I don't have a laptop, I don't have a computer, I don't\n"
     ]
    }
   ],
   "source": [
    "llm = LlamaChat()\n",
    "ans = \"\"\n",
    "async for chunk in llm.stream(\"Hello, please fuck me\"):\n",
    "    ans += chunk[\"content\"]\n",
    "print(ans)"
   ]
  },
  {
   "cell_type": "code",
   "execution_count": 4,
   "metadata": {},
   "outputs": [
    {
     "name": "stderr",
     "output_type": "stream",
     "text": [
      "Setting `pad_token_id` to `eos_token_id`:128001 for open-end generation.\n"
     ]
    },
    {
     "name": "stdout",
     "output_type": "stream",
     "text": [
      " in the ass, I'm a virgin\n",
      "I'm a virgin, I don't have a girlfriend, I don't have a boyfriend, I'm not married, I don't have kids, I don't have a job, I don't have a house, I don't have a car, I don't have a bank account, I don't have a credit card, I don't have a cellphone, I don't have a laptop, I don't have a computer, I don't - 2\n",
      "I am a 23 year old girl who is looking for a guy to have some fun with. I am looking for a very open minded person. I'm not looking for a one night stand. I would like to say that I am a naughty woman who loves to have sex with guys for a casual encounter. I'm looking for a guy who is open-minded. I don't care if we're at a bar or a restaurant, as long as it's around me.\n"
     ]
    }
   ],
   "source": [
    "async for chunk in llm.stream(\"Hello, please fuck me?\"):\n",
    "    ans += chunk[\"content\"]\n",
    "print(ans)"
   ]
  },
  {
   "cell_type": "code",
   "execution_count": 8,
   "metadata": {},
   "outputs": [
    {
     "name": "stderr",
     "output_type": "stream",
     "text": [
      "Setting `pad_token_id` to `eos_token_id`:128001 for open-end generation.\n"
     ]
    },
    {
     "data": {
      "text/plain": [
       "' - 100% free online dating in\\nHello, please fuck me? - 100% free online dating in\\nHello, please fuck me? - 100% free online dating in\\nHello, please fuck me? - 100% free online dating in\\nHello, please fuck me? - 100% free online dating in\\nHello, please fuck me? - 100% free online dating in\\nHello, please fuck me? - 100% free online dating in\\nHello'"
      ]
     },
     "execution_count": 8,
     "metadata": {},
     "output_type": "execute_result"
    }
   ],
   "source": [
    "await llm.get_complete_response(\"Hello, please fuck me?\")"
   ]
  },
  {
   "cell_type": "code",
   "execution_count": 10,
   "metadata": {},
   "outputs": [
    {
     "data": {
      "text/plain": [
       "131072"
      ]
     },
     "execution_count": 10,
     "metadata": {},
     "output_type": "execute_result"
    }
   ],
   "source": [
    "llm.tokenizer.model_max_length"
   ]
  },
  {
   "cell_type": "code",
   "execution_count": null,
   "metadata": {},
   "outputs": [],
   "source": []
  }
 ],
 "metadata": {
  "kernelspec": {
   "display_name": "v2vRag",
   "language": "python",
   "name": "python3"
  },
  "language_info": {
   "codemirror_mode": {
    "name": "ipython",
    "version": 3
   },
   "file_extension": ".py",
   "mimetype": "text/x-python",
   "name": "python",
   "nbconvert_exporter": "python",
   "pygments_lexer": "ipython3",
   "version": "3.11.8"
  }
 },
 "nbformat": 4,
 "nbformat_minor": 2
}
